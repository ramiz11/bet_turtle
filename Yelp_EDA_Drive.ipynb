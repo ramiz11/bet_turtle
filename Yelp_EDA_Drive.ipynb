{
  "nbformat": 4,
  "nbformat_minor": 0,
  "metadata": {
    "colab": {
      "name": "Yelp-EDA_Drive.ipynb",
      "provenance": [],
      "collapsed_sections": [],
      "authorship_tag": "ABX9TyO/1qUfyelASqxfRJgBoHNW",
      "include_colab_link": true
    },
    "kernelspec": {
      "name": "python3",
      "display_name": "Python 3"
    }
  },
  "cells": [
    {
      "cell_type": "markdown",
      "metadata": {
        "id": "view-in-github",
        "colab_type": "text"
      },
      "source": [
        "<a href=\"https://colab.research.google.com/github/ramiz11/bet_turtle/blob/main/Yelp_EDA_Drive.ipynb\" target=\"_parent\"><img src=\"https://colab.research.google.com/assets/colab-badge.svg\" alt=\"Open In Colab\"/></a>"
      ]
    },
    {
      "cell_type": "code",
      "metadata": {
        "colab": {
          "base_uri": "https://localhost:8080/"
        },
        "id": "aBzIWDMmjwUi",
        "outputId": "e37fa7a7-57fb-44d6-b00e-73daacdf249a"
      },
      "source": [
        "!apt-get install -y -qq software-properties-common python-software-properties module-init-tools\r\n",
        "!add-apt-repository -y ppa:alessandro-strada/ppa 2>&1 > /dev/null\r\n",
        "!apt-get update -qq 2>&1 > /dev/null\r\n",
        "!apt-get -y install -qq google-drive-ocamlfuse fuse\r\n",
        "from google.colab import auth\r\n",
        "auth.authenticate_user()\r\n",
        "from oauth2client.client import GoogleCredentials\r\n",
        "creds = GoogleCredentials.get_application_default()\r\n",
        "import getpass\r\n",
        "!google-drive-ocamlfuse -headless -id={creds.client_id} -secret={creds.client_secret} < /dev/null 2>&1 | grep URL\r\n",
        "vcode = getpass.getpass()\r\n",
        "!echo {vcode} | google-drive-ocamlfuse -headless -id={creds.client_id} -secret={creds.client_secret}\r\n",
        "!mkdir -p drive\r\n",
        "!google-drive-ocamlfuse drive"
      ],
      "execution_count": null,
      "outputs": [
        {
          "output_type": "stream",
          "text": [
            "E: Package 'python-software-properties' has no installation candidate\n",
            "Selecting previously unselected package google-drive-ocamlfuse.\n",
            "(Reading database ... 146374 files and directories currently installed.)\n",
            "Preparing to unpack .../google-drive-ocamlfuse_0.7.24-0ubuntu1~ubuntu18.04.1_amd64.deb ...\n",
            "Unpacking google-drive-ocamlfuse (0.7.24-0ubuntu1~ubuntu18.04.1) ...\n",
            "Setting up google-drive-ocamlfuse (0.7.24-0ubuntu1~ubuntu18.04.1) ...\n",
            "Processing triggers for man-db (2.8.3-2ubuntu0.1) ...\n",
            "Please, open the following URL in a web browser: https://accounts.google.com/o/oauth2/auth?client_id=32555940559.apps.googleusercontent.com&redirect_uri=urn%3Aietf%3Awg%3Aoauth%3A2.0%3Aoob&scope=https%3A%2F%2Fwww.googleapis.com%2Fauth%2Fdrive&response_type=code&access_type=offline&approval_prompt=force\n",
            "··········\n",
            "Please, open the following URL in a web browser: https://accounts.google.com/o/oauth2/auth?client_id=32555940559.apps.googleusercontent.com&redirect_uri=urn%3Aietf%3Awg%3Aoauth%3A2.0%3Aoob&scope=https%3A%2F%2Fwww.googleapis.com%2Fauth%2Fdrive&response_type=code&access_type=offline&approval_prompt=force\n",
            "Please enter the verification code: Access token retrieved correctly.\n"
          ],
          "name": "stdout"
        }
      ]
    },
    {
      "cell_type": "code",
      "metadata": {
        "id": "VDrRVTPvkjEV"
      },
      "source": [
        "import pandas as pd\r\n",
        "import seaborn as sns\r\n",
        "import matplotlib.pyplot as plt\r\n",
        "from pathlib import Path"
      ],
      "execution_count": null,
      "outputs": []
    },
    {
      "cell_type": "code",
      "metadata": {
        "id": "iNGT0IPMkxOW"
      },
      "source": [
        "### read saved data\r\n",
        "dirname=\"./drive/\"\r\n",
        "business = pd.read_pickle(Path(dirname, 'business.pkl'))\r\n",
        "user = pd.read_pickle(Path(dirname, 'user.pkl'))\r\n",
        "tip= pd.read_pickle(Path(dirname, 'tip.pkl'))\r\n",
        "review = pd.read_pickle(Path(dirname, 'review.pkl'))\r\n",
        "friends = pd.read_pickle(Path(dirname, 'friends.pkl'))\r\n",
        "checkin = pd.read_pickle(Path(dirname, 'checkin.pkl'))"
      ],
      "execution_count": null,
      "outputs": []
    },
    {
      "cell_type": "code",
      "metadata": {
        "id": "rDMStJEumiSj",
        "colab": {
          "base_uri": "https://localhost:8080/",
          "height": 289
        },
        "outputId": "4677540a-2210-4c93-a433-8c45f0331486"
      },
      "source": [
        "### business names - already filtered by city = Pittsburgh\r\n",
        "business.head()"
      ],
      "execution_count": null,
      "outputs": [
        {
          "output_type": "execute_result",
          "data": {
            "text/html": [
              "<div>\n",
              "<style scoped>\n",
              "    .dataframe tbody tr th:only-of-type {\n",
              "        vertical-align: middle;\n",
              "    }\n",
              "\n",
              "    .dataframe tbody tr th {\n",
              "        vertical-align: top;\n",
              "    }\n",
              "\n",
              "    .dataframe thead th {\n",
              "        text-align: right;\n",
              "    }\n",
              "</style>\n",
              "<table border=\"1\" class=\"dataframe\">\n",
              "  <thead>\n",
              "    <tr style=\"text-align: right;\">\n",
              "      <th></th>\n",
              "      <th>business_id</th>\n",
              "      <th>name</th>\n",
              "      <th>address</th>\n",
              "      <th>city</th>\n",
              "      <th>state</th>\n",
              "      <th>postal_code</th>\n",
              "      <th>latitude</th>\n",
              "      <th>longitude</th>\n",
              "      <th>stars</th>\n",
              "      <th>review_count</th>\n",
              "      <th>is_open</th>\n",
              "      <th>attributes</th>\n",
              "      <th>categories</th>\n",
              "      <th>hours</th>\n",
              "    </tr>\n",
              "  </thead>\n",
              "  <tbody>\n",
              "    <tr>\n",
              "      <th>11</th>\n",
              "      <td>7Dv4_HAxsxvadEsT5fxQBg</td>\n",
              "      <td>Dependable Brakes &amp; Exhaust</td>\n",
              "      <td>1110 Saw Mill Run Blvd</td>\n",
              "      <td>Pittsburgh</td>\n",
              "      <td>PA</td>\n",
              "      <td>15226</td>\n",
              "      <td>40.406667</td>\n",
              "      <td>-80.004450</td>\n",
              "      <td>5.0</td>\n",
              "      <td>5</td>\n",
              "      <td>1</td>\n",
              "      <td>{'BusinessAcceptsCreditCards': 'True'}</td>\n",
              "      <td>Automotive, Auto Repair</td>\n",
              "      <td>{'Monday': '8:0-17:0', 'Tuesday': '8:0-17:0', ...</td>\n",
              "    </tr>\n",
              "    <tr>\n",
              "      <th>39</th>\n",
              "      <td>_4Oe9V-qTpU5iemM9bphlA</td>\n",
              "      <td>Goodyear Auto Service Center</td>\n",
              "      <td>800 Fort Duquesne Blvd, Ste 1</td>\n",
              "      <td>Pittsburgh</td>\n",
              "      <td>PA</td>\n",
              "      <td>15222</td>\n",
              "      <td>40.444614</td>\n",
              "      <td>-79.999344</td>\n",
              "      <td>3.5</td>\n",
              "      <td>12</td>\n",
              "      <td>1</td>\n",
              "      <td>{'BusinessAcceptsCreditCards': 'True'}</td>\n",
              "      <td>Oil Change Stations, Auto Repair, Automotive, ...</td>\n",
              "      <td>{'Monday': '7:0-18:0', 'Tuesday': '7:0-18:0', ...</td>\n",
              "    </tr>\n",
              "    <tr>\n",
              "      <th>69</th>\n",
              "      <td>UyZqOcWxShRRtACCkZFkpQ</td>\n",
              "      <td>Local Pet</td>\n",
              "      <td>415 Gettysburg St, Ste 1</td>\n",
              "      <td>Pittsburgh</td>\n",
              "      <td>PA</td>\n",
              "      <td>15206</td>\n",
              "      <td>40.449976</td>\n",
              "      <td>-79.914876</td>\n",
              "      <td>5.0</td>\n",
              "      <td>3</td>\n",
              "      <td>1</td>\n",
              "      <td>None</td>\n",
              "      <td>Pet Sitting, Pets, Pet Stores, Pet Services, P...</td>\n",
              "      <td>{'Monday': '0:0-0:0', 'Tuesday': '10:0-19:0', ...</td>\n",
              "    </tr>\n",
              "    <tr>\n",
              "      <th>158</th>\n",
              "      <td>utjb7V7VK5QNdHjMP7H1kw</td>\n",
              "      <td>Shear Sensations Hair and Body Care Salon</td>\n",
              "      <td>1801 Chislett St</td>\n",
              "      <td>Pittsburgh</td>\n",
              "      <td>PA</td>\n",
              "      <td>15206</td>\n",
              "      <td>40.485619</td>\n",
              "      <td>-79.925922</td>\n",
              "      <td>5.0</td>\n",
              "      <td>6</td>\n",
              "      <td>1</td>\n",
              "      <td>{'RestaurantsPriceRange2': '1', 'BusinessAccep...</td>\n",
              "      <td>Hair Removal, Skin Care, Waxing, Hair Salons, ...</td>\n",
              "      <td>{'Tuesday': '10:0-15:0', 'Wednesday': '11:0-15...</td>\n",
              "    </tr>\n",
              "    <tr>\n",
              "      <th>206</th>\n",
              "      <td>LKF5QS7BQ8oaXnTUaK_mzg</td>\n",
              "      <td>Budget Transmissions</td>\n",
              "      <td>3301 Library Rd</td>\n",
              "      <td>Pittsburgh</td>\n",
              "      <td>PA</td>\n",
              "      <td>15234</td>\n",
              "      <td>40.369637</td>\n",
              "      <td>-80.010680</td>\n",
              "      <td>2.5</td>\n",
              "      <td>3</td>\n",
              "      <td>1</td>\n",
              "      <td>{'BusinessAcceptsCreditCards': 'True'}</td>\n",
              "      <td>Automotive, Auto Repair, Transmission Repair</td>\n",
              "      <td>{'Monday': '8:0-17:0', 'Tuesday': '8:0-17:0', ...</td>\n",
              "    </tr>\n",
              "  </tbody>\n",
              "</table>\n",
              "</div>"
            ],
            "text/plain": [
              "                business_id  ...                                              hours\n",
              "11   7Dv4_HAxsxvadEsT5fxQBg  ...  {'Monday': '8:0-17:0', 'Tuesday': '8:0-17:0', ...\n",
              "39   _4Oe9V-qTpU5iemM9bphlA  ...  {'Monday': '7:0-18:0', 'Tuesday': '7:0-18:0', ...\n",
              "69   UyZqOcWxShRRtACCkZFkpQ  ...  {'Monday': '0:0-0:0', 'Tuesday': '10:0-19:0', ...\n",
              "158  utjb7V7VK5QNdHjMP7H1kw  ...  {'Tuesday': '10:0-15:0', 'Wednesday': '11:0-15...\n",
              "206  LKF5QS7BQ8oaXnTUaK_mzg  ...  {'Monday': '8:0-17:0', 'Tuesday': '8:0-17:0', ...\n",
              "\n",
              "[5 rows x 14 columns]"
            ]
          },
          "metadata": {
            "tags": []
          },
          "execution_count": 9
        }
      ]
    },
    {
      "cell_type": "code",
      "metadata": {
        "colab": {
          "base_uri": "https://localhost:8080/"
        },
        "id": "l1jvlGUimrHG",
        "outputId": "ef0ca2ee-48ae-4ba3-ab5c-922c8f5fa0c7"
      },
      "source": [
        "business.city.unique()"
      ],
      "execution_count": null,
      "outputs": [
        {
          "output_type": "execute_result",
          "data": {
            "text/plain": [
              "array(['Pittsburgh'], dtype=object)"
            ]
          },
          "metadata": {
            "tags": []
          },
          "execution_count": 10
        }
      ]
    },
    {
      "cell_type": "code",
      "metadata": {
        "colab": {
          "base_uri": "https://localhost:8080/"
        },
        "id": "vBQI6wK_msn4",
        "outputId": "dff2fb16-e7ad-43d0-f66a-c0a7f8ffdf36"
      },
      "source": [
        "business.shape"
      ],
      "execution_count": null,
      "outputs": [
        {
          "output_type": "execute_result",
          "data": {
            "text/plain": [
              "(7630, 14)"
            ]
          },
          "metadata": {
            "tags": []
          },
          "execution_count": 11
        }
      ]
    },
    {
      "cell_type": "code",
      "metadata": {
        "colab": {
          "base_uri": "https://localhost:8080/"
        },
        "id": "RI0DAz0UmtJy",
        "outputId": "a20baba6-3225-4505-cee4-1cebfd15d65c"
      },
      "source": [
        "business.info()"
      ],
      "execution_count": null,
      "outputs": [
        {
          "output_type": "stream",
          "text": [
            "<class 'pandas.core.frame.DataFrame'>\n",
            "Int64Index: 7630 entries, 11 to 209270\n",
            "Data columns (total 14 columns):\n",
            " #   Column        Non-Null Count  Dtype  \n",
            "---  ------        --------------  -----  \n",
            " 0   business_id   7630 non-null   object \n",
            " 1   name          7630 non-null   object \n",
            " 2   address       7630 non-null   object \n",
            " 3   city          7630 non-null   object \n",
            " 4   state         7630 non-null   object \n",
            " 5   postal_code   7630 non-null   object \n",
            " 6   latitude      7630 non-null   float64\n",
            " 7   longitude     7630 non-null   float64\n",
            " 8   stars         7630 non-null   float64\n",
            " 9   review_count  7630 non-null   int64  \n",
            " 10  is_open       7630 non-null   int64  \n",
            " 11  attributes    6731 non-null   object \n",
            " 12  categories    7613 non-null   object \n",
            " 13  hours         5841 non-null   object \n",
            "dtypes: float64(3), int64(2), object(9)\n",
            "memory usage: 894.1+ KB\n"
          ],
          "name": "stdout"
        }
      ]
    },
    {
      "cell_type": "code",
      "metadata": {
        "colab": {
          "base_uri": "https://localhost:8080/",
          "height": 297
        },
        "id": "tP0qPzA3mufk",
        "outputId": "1a4a6157-6b8f-4552-c0fe-b60689f7d974"
      },
      "source": [
        "business.describe()"
      ],
      "execution_count": null,
      "outputs": [
        {
          "output_type": "execute_result",
          "data": {
            "text/html": [
              "<div>\n",
              "<style scoped>\n",
              "    .dataframe tbody tr th:only-of-type {\n",
              "        vertical-align: middle;\n",
              "    }\n",
              "\n",
              "    .dataframe tbody tr th {\n",
              "        vertical-align: top;\n",
              "    }\n",
              "\n",
              "    .dataframe thead th {\n",
              "        text-align: right;\n",
              "    }\n",
              "</style>\n",
              "<table border=\"1\" class=\"dataframe\">\n",
              "  <thead>\n",
              "    <tr style=\"text-align: right;\">\n",
              "      <th></th>\n",
              "      <th>latitude</th>\n",
              "      <th>longitude</th>\n",
              "      <th>stars</th>\n",
              "      <th>review_count</th>\n",
              "      <th>is_open</th>\n",
              "    </tr>\n",
              "  </thead>\n",
              "  <tbody>\n",
              "    <tr>\n",
              "      <th>count</th>\n",
              "      <td>7630.000000</td>\n",
              "      <td>7630.000000</td>\n",
              "      <td>7630.000000</td>\n",
              "      <td>7630.000000</td>\n",
              "      <td>7630.000000</td>\n",
              "    </tr>\n",
              "    <tr>\n",
              "      <th>mean</th>\n",
              "      <td>40.447351</td>\n",
              "      <td>-79.986764</td>\n",
              "      <td>3.586632</td>\n",
              "      <td>34.392136</td>\n",
              "      <td>0.800393</td>\n",
              "    </tr>\n",
              "    <tr>\n",
              "      <th>std</th>\n",
              "      <td>0.060144</td>\n",
              "      <td>0.073371</td>\n",
              "      <td>0.984027</td>\n",
              "      <td>82.395213</td>\n",
              "      <td>0.399731</td>\n",
              "    </tr>\n",
              "    <tr>\n",
              "      <th>min</th>\n",
              "      <td>40.265815</td>\n",
              "      <td>-80.259831</td>\n",
              "      <td>1.000000</td>\n",
              "      <td>3.000000</td>\n",
              "      <td>0.000000</td>\n",
              "    </tr>\n",
              "    <tr>\n",
              "      <th>25%</th>\n",
              "      <td>40.428719</td>\n",
              "      <td>-80.020950</td>\n",
              "      <td>3.000000</td>\n",
              "      <td>4.000000</td>\n",
              "      <td>1.000000</td>\n",
              "    </tr>\n",
              "    <tr>\n",
              "      <th>50%</th>\n",
              "      <td>40.443882</td>\n",
              "      <td>-79.987575</td>\n",
              "      <td>3.500000</td>\n",
              "      <td>9.000000</td>\n",
              "      <td>1.000000</td>\n",
              "    </tr>\n",
              "    <tr>\n",
              "      <th>75%</th>\n",
              "      <td>40.462795</td>\n",
              "      <td>-79.945928</td>\n",
              "      <td>4.500000</td>\n",
              "      <td>29.000000</td>\n",
              "      <td>1.000000</td>\n",
              "    </tr>\n",
              "    <tr>\n",
              "      <th>max</th>\n",
              "      <td>43.682467</td>\n",
              "      <td>-79.475187</td>\n",
              "      <td>5.000000</td>\n",
              "      <td>2001.000000</td>\n",
              "      <td>1.000000</td>\n",
              "    </tr>\n",
              "  </tbody>\n",
              "</table>\n",
              "</div>"
            ],
            "text/plain": [
              "          latitude    longitude        stars  review_count      is_open\n",
              "count  7630.000000  7630.000000  7630.000000   7630.000000  7630.000000\n",
              "mean     40.447351   -79.986764     3.586632     34.392136     0.800393\n",
              "std       0.060144     0.073371     0.984027     82.395213     0.399731\n",
              "min      40.265815   -80.259831     1.000000      3.000000     0.000000\n",
              "25%      40.428719   -80.020950     3.000000      4.000000     1.000000\n",
              "50%      40.443882   -79.987575     3.500000      9.000000     1.000000\n",
              "75%      40.462795   -79.945928     4.500000     29.000000     1.000000\n",
              "max      43.682467   -79.475187     5.000000   2001.000000     1.000000"
            ]
          },
          "metadata": {
            "tags": []
          },
          "execution_count": 13
        }
      ]
    },
    {
      "cell_type": "code",
      "metadata": {
        "colab": {
          "base_uri": "https://localhost:8080/"
        },
        "id": "-FejeQSUmxSe",
        "outputId": "bf2dde6a-55f2-4579-c469-298a020845d2"
      },
      "source": [
        "business.categories"
      ],
      "execution_count": null,
      "outputs": [
        {
          "output_type": "execute_result",
          "data": {
            "text/plain": [
              "11                                  Automotive, Auto Repair\n",
              "39        Oil Change Stations, Auto Repair, Automotive, ...\n",
              "69        Pet Sitting, Pets, Pet Stores, Pet Services, P...\n",
              "158       Hair Removal, Skin Care, Waxing, Hair Salons, ...\n",
              "206            Automotive, Auto Repair, Transmission Repair\n",
              "                                ...                        \n",
              "209223    Restaurants, Burgers, Hot Dogs, Food, Coffee &...\n",
              "209232    Local Services, Carpet Cleaning, Home Cleaning...\n",
              "209243    Shopping, Accessories, Men's Clothing, Fashion...\n",
              "209244                                 Restaurants, Mexican\n",
              "209270                              Shopping, Tobacco Shops\n",
              "Name: categories, Length: 7630, dtype: object"
            ]
          },
          "metadata": {
            "tags": []
          },
          "execution_count": 14
        }
      ]
    },
    {
      "cell_type": "code",
      "metadata": {
        "colab": {
          "base_uri": "https://localhost:8080/"
        },
        "id": "4T2g_TgvmzRV",
        "outputId": "85a61aed-13e0-4f3e-9351-b3570b8f7814"
      },
      "source": [
        "n_rest = sum(business['categories'].str.contains('Restaurant', na=False))\r\n",
        "n_rest"
      ],
      "execution_count": null,
      "outputs": [
        {
          "output_type": "execute_result",
          "data": {
            "text/plain": [
              "2609"
            ]
          },
          "metadata": {
            "tags": []
          },
          "execution_count": 15
        }
      ]
    },
    {
      "cell_type": "markdown",
      "metadata": {
        "id": "f1MQbhQhm1PS"
      },
      "source": [
        "#what is the percentage of restaurants from all the businesses in pittsburgh\r\n"
      ]
    },
    {
      "cell_type": "code",
      "metadata": {
        "colab": {
          "base_uri": "https://localhost:8080/",
          "height": 35
        },
        "id": "pP7-iy7Tm2rL",
        "outputId": "24fa1106-85e8-47d7-ff3f-2330ecfdfe56"
      },
      "source": [
        "f\"{n_rest/len(business) :.0%}\""
      ],
      "execution_count": null,
      "outputs": [
        {
          "output_type": "execute_result",
          "data": {
            "application/vnd.google.colaboratory.intrinsic+json": {
              "type": "string"
            },
            "text/plain": [
              "'34%'"
            ]
          },
          "metadata": {
            "tags": []
          },
          "execution_count": 16
        }
      ]
    },
    {
      "cell_type": "markdown",
      "metadata": {
        "id": "c19VsM9jm9PX"
      },
      "source": [
        "# Restaurants Stars Distribution\r\n"
      ]
    },
    {
      "cell_type": "code",
      "metadata": {
        "colab": {
          "base_uri": "https://localhost:8080/",
          "height": 302
        },
        "id": "AiZq0Tx1m-q7",
        "outputId": "81f1daf2-e72c-4a10-dc4e-a45840224b25"
      },
      "source": [
        "restaurants=business[business['categories'].str.contains('Restaurant', na=False)]\r\n",
        "restaurants.groupby('stars').size().plot.bar()"
      ],
      "execution_count": null,
      "outputs": [
        {
          "output_type": "execute_result",
          "data": {
            "text/plain": [
              "<matplotlib.axes._subplots.AxesSubplot at 0x7f3777b766d8>"
            ]
          },
          "metadata": {
            "tags": []
          },
          "execution_count": 18
        },
        {
          "output_type": "display_data",
          "data": {
            "image/png": "[encoded data removed]",
            "text/plain": [
              "<Figure size 432x288 with 1 Axes>"
            ]
          },
          "metadata": {
            "tags": [],
            "needs_background": "light"
          }
        }
      ]
    },
    {
      "cell_type": "code",
      "metadata": {
        "id": "QjRLF4LWnMuY"
      },
      "source": [
        ""
      ],
      "execution_count": null,
      "outputs": []
    }
  ]
}